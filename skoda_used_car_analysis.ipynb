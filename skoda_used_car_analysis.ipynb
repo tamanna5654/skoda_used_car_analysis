{
 "cells": [
  {
   "cell_type": "code",
   "execution_count": 14,
   "id": "f6f745c8",
   "metadata": {},
   "outputs": [],
   "source": [
    "import numpy as np\n",
    "import pandas as pd\n",
    "import matplotlib.pyplot as plt\n",
    "import seaborn as sns"
   ]
  },
  {
   "cell_type": "code",
   "execution_count": 2,
   "id": "0efcc341",
   "metadata": {},
   "outputs": [
    {
     "data": {
      "text/html": [
       "<div>\n",
       "<style scoped>\n",
       "    .dataframe tbody tr th:only-of-type {\n",
       "        vertical-align: middle;\n",
       "    }\n",
       "\n",
       "    .dataframe tbody tr th {\n",
       "        vertical-align: top;\n",
       "    }\n",
       "\n",
       "    .dataframe thead th {\n",
       "        text-align: right;\n",
       "    }\n",
       "</style>\n",
       "<table border=\"1\" class=\"dataframe\">\n",
       "  <thead>\n",
       "    <tr style=\"text-align: right;\">\n",
       "      <th></th>\n",
       "      <th>model</th>\n",
       "      <th>year</th>\n",
       "      <th>price</th>\n",
       "      <th>transmission</th>\n",
       "      <th>mileage</th>\n",
       "      <th>fuelType</th>\n",
       "      <th>mpg</th>\n",
       "      <th>engineSize</th>\n",
       "    </tr>\n",
       "  </thead>\n",
       "  <tbody>\n",
       "    <tr>\n",
       "      <th>0</th>\n",
       "      <td>Octavia</td>\n",
       "      <td>2017</td>\n",
       "      <td>10550</td>\n",
       "      <td>Manual</td>\n",
       "      <td>25250</td>\n",
       "      <td>Petrol</td>\n",
       "      <td>54.3</td>\n",
       "      <td>1.4</td>\n",
       "    </tr>\n",
       "    <tr>\n",
       "      <th>1</th>\n",
       "      <td>Citigo</td>\n",
       "      <td>2018</td>\n",
       "      <td>8200</td>\n",
       "      <td>Manual</td>\n",
       "      <td>1264</td>\n",
       "      <td>Petrol</td>\n",
       "      <td>67.3</td>\n",
       "      <td>1.0</td>\n",
       "    </tr>\n",
       "    <tr>\n",
       "      <th>2</th>\n",
       "      <td>Octavia</td>\n",
       "      <td>2019</td>\n",
       "      <td>15650</td>\n",
       "      <td>Automatic</td>\n",
       "      <td>6825</td>\n",
       "      <td>Diesel</td>\n",
       "      <td>67.3</td>\n",
       "      <td>2.0</td>\n",
       "    </tr>\n",
       "    <tr>\n",
       "      <th>3</th>\n",
       "      <td>Yeti Outdoor</td>\n",
       "      <td>2015</td>\n",
       "      <td>14000</td>\n",
       "      <td>Automatic</td>\n",
       "      <td>28431</td>\n",
       "      <td>Diesel</td>\n",
       "      <td>51.4</td>\n",
       "      <td>2.0</td>\n",
       "    </tr>\n",
       "    <tr>\n",
       "      <th>4</th>\n",
       "      <td>Superb</td>\n",
       "      <td>2019</td>\n",
       "      <td>18350</td>\n",
       "      <td>Manual</td>\n",
       "      <td>10912</td>\n",
       "      <td>Petrol</td>\n",
       "      <td>40.9</td>\n",
       "      <td>1.5</td>\n",
       "    </tr>\n",
       "  </tbody>\n",
       "</table>\n",
       "</div>"
      ],
      "text/plain": [
       "           model  year  price transmission  mileage fuelType   mpg  engineSize\n",
       "0        Octavia  2017  10550       Manual    25250   Petrol  54.3         1.4\n",
       "1         Citigo  2018   8200       Manual     1264   Petrol  67.3         1.0\n",
       "2        Octavia  2019  15650    Automatic     6825   Diesel  67.3         2.0\n",
       "3   Yeti Outdoor  2015  14000    Automatic    28431   Diesel  51.4         2.0\n",
       "4         Superb  2019  18350       Manual    10912   Petrol  40.9         1.5"
      ]
     },
     "metadata": {},
     "output_type": "display_data"
    }
   ],
   "source": [
    "df = pd.read_csv(\"F:\\\\python\\Data_Visualization_with_Python_s2-main\\HW-2\\\\skoda.csv\")\n",
    "display(df.head(5))"
   ]
  },
  {
   "cell_type": "markdown",
   "id": "38583552",
   "metadata": {},
   "source": [
    "A pie chart with transmission variable-"
   ]
  },
  {
   "cell_type": "code",
   "execution_count": 4,
   "id": "3e01739c",
   "metadata": {},
   "outputs": [
    {
     "data": {
      "image/png": "[encoded data removed]",
      "text/plain": [
       "<Figure size 432x288 with 1 Axes>"
      ]
     },
     "metadata": {},
     "output_type": "display_data"
    }
   ],
   "source": [
    "df[\"transmission\"].value_counts().plot(kind=\"pie\", \n",
    "                                       autopct='%1.2f%%', \n",
    "                                       startangle=60)\n",
    "plt.ylabel(\"\")\n",
    "plt.show()\n",
    "shadow= True"
   ]
  },
  {
   "cell_type": "markdown",
   "id": "3e84baed",
   "metadata": {},
   "source": [
    "A pie chart with fueltype variable-"
   ]
  },
  {
   "cell_type": "code",
   "execution_count": 5,
   "id": "a48d01f6",
   "metadata": {},
   "outputs": [
    {
     "data": {
      "image/png": "[encoded data removed]",
      "text/plain": [
       "<Figure size 432x288 with 1 Axes>"
      ]
     },
     "metadata": {},
     "output_type": "display_data"
    }
   ],
   "source": [
    "df[\"fuelType\"].value_counts().plot(kind=\"pie\", \n",
    "                                       autopct='%1.2f%%', \n",
    "                                       startangle=60)\n",
    "plt.ylabel(\"\")\n",
    "plt.show()\n",
    "shadow= True"
   ]
  },
  {
   "cell_type": "markdown",
   "id": "7db6c342",
   "metadata": {},
   "source": [
    "Here we can see the pie chart is not understable and overlaps different percentages.So i have created another barplot with the same variable to understand that well."
   ]
  },
  {
   "cell_type": "markdown",
   "id": "c0c52f8c",
   "metadata": {},
   "source": [
    "1) Creating percentages-"
   ]
  },
  {
   "cell_type": "code",
   "execution_count": 6,
   "id": "5a106355",
   "metadata": {},
   "outputs": [
    {
     "data": {
      "text/html": [
       "<div>\n",
       "<style scoped>\n",
       "    .dataframe tbody tr th:only-of-type {\n",
       "        vertical-align: middle;\n",
       "    }\n",
       "\n",
       "    .dataframe tbody tr th {\n",
       "        vertical-align: top;\n",
       "    }\n",
       "\n",
       "    .dataframe thead th {\n",
       "        text-align: right;\n",
       "    }\n",
       "</style>\n",
       "<table border=\"1\" class=\"dataframe\">\n",
       "  <thead>\n",
       "    <tr style=\"text-align: right;\">\n",
       "      <th></th>\n",
       "      <th>fuelType</th>\n",
       "      <th>no_of_cars</th>\n",
       "      <th>% of cars</th>\n",
       "    </tr>\n",
       "  </thead>\n",
       "  <tbody>\n",
       "    <tr>\n",
       "      <th>0</th>\n",
       "      <td>Petrol</td>\n",
       "      <td>4171</td>\n",
       "      <td>66.55</td>\n",
       "    </tr>\n",
       "    <tr>\n",
       "      <th>1</th>\n",
       "      <td>Diesel</td>\n",
       "      <td>2069</td>\n",
       "      <td>33.01</td>\n",
       "    </tr>\n",
       "    <tr>\n",
       "      <th>2</th>\n",
       "      <td>Hybrid</td>\n",
       "      <td>18</td>\n",
       "      <td>0.29</td>\n",
       "    </tr>\n",
       "    <tr>\n",
       "      <th>3</th>\n",
       "      <td>Other</td>\n",
       "      <td>9</td>\n",
       "      <td>0.14</td>\n",
       "    </tr>\n",
       "  </tbody>\n",
       "</table>\n",
       "</div>"
      ],
      "text/plain": [
       "  fuelType  no_of_cars  % of cars\n",
       "0   Petrol        4171      66.55\n",
       "1   Diesel        2069      33.01\n",
       "2   Hybrid          18       0.29\n",
       "3    Other           9       0.14"
      ]
     },
     "metadata": {},
     "output_type": "display_data"
    }
   ],
   "source": [
    "df_fuelType = pd.DataFrame(df[\"fuelType\"].value_counts())\n",
    "df_fuelType = df_fuelType.reset_index()\n",
    "df_fuelType = df_fuelType.rename(columns={\"index\":\"fuelType\",\n",
    "                                          \"fuelType\":\"no_of_cars\"})\n",
    "\n",
    "df_fuelType[\"% of cars\"] = (df_fuelType[\"no_of_cars\"]/df.shape[0])*100\n",
    "\n",
    "df_fuelType = df_fuelType.round(2)\n",
    "\n",
    "display(df_fuelType)"
   ]
  },
  {
   "cell_type": "markdown",
   "id": "e3625399",
   "metadata": {},
   "source": [
    "2)barplot"
   ]
  },
  {
   "cell_type": "code",
   "execution_count": 24,
   "id": "6b320eaa",
   "metadata": {},
   "outputs": [
    {
     "data": {
      "image/png": "[encoded data removed]",
      "text/plain": [
       "<Figure size 432x288 with 1 Axes>"
      ]
     },
     "metadata": {
      "needs_background": "light"
     },
     "output_type": "display_data"
    }
   ],
   "source": [
    "sns.barplot(x=\"% of cars\" , \n",
    "            y=\"fuelType\", \n",
    "            data=df_fuelType, \n",
    "            color=\"blue\",\n",
    "            alpha=1.0)\n",
    "plt.xlabel(\"percentage of cars\",color=\"blue\")\n",
    "plt.ylabel(\"Fuel Type\",color=\"blue\")\n",
    "plt.title(\"Percentage of different fuel used\",color=\"Green\")\n",
    "\n",
    "plt.xticks(np.arange(0,66,2),rotation=\"vertical\" )\n",
    "plt.show()"
   ]
  }
 ],
 "metadata": {
  "kernelspec": {
   "display_name": "Python 3 (ipykernel)",
   "language": "python",
   "name": "python3"
  },
  "language_info": {
   "codemirror_mode": {
    "name": "ipython",
    "version": 3
   },
   "file_extension": ".py",
   "mimetype": "text/x-python",
   "name": "python",
   "nbconvert_exporter": "python",
   "pygments_lexer": "ipython3",
   "version": "3.9.7"
  }
 },
 "nbformat": 4,
 "nbformat_minor": 5
}
